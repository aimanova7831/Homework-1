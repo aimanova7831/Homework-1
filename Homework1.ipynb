{
  "nbformat": 4,
  "nbformat_minor": 0,
  "metadata": {
    "colab": {
      "name": "Homework1.ipynb",
      "provenance": [],
      "collapsed_sections": [],
      "include_colab_link": true
    },
    "kernelspec": {
      "name": "python3",
      "display_name": "Python 3"
    },
    "language_info": {
      "name": "python"
    }
  },
  "cells": [
    {
      "cell_type": "markdown",
      "metadata": {
        "id": "view-in-github",
        "colab_type": "text"
      },
      "source": [
        "<a href=\"https://colab.research.google.com/github/aimanova7831/Homework-1/blob/main/Homework1.ipynb\" target=\"_parent\"><img src=\"https://colab.research.google.com/assets/colab-badge.svg\" alt=\"Open In Colab\"/></a>"
      ]
    },
    {
      "cell_type": "code",
      "execution_count": null,
      "metadata": {
        "colab": {
          "base_uri": "https://localhost:8080/"
        },
        "id": "jrVeHsm1rpdT",
        "outputId": "66d5d1de-aa14-43c6-c555-b641d8e61cc8"
      },
      "outputs": [
        {
          "output_type": "stream",
          "name": "stdout",
          "text": [
            "What is your name? AYsel\n",
            "What is your age? 20\n",
            "Your name is AYsel. Your age is 20\n"
          ]
        }
      ],
      "source": [
        "#Q1-Get your name and age as input and print it in the form like\n",
        "#Your name is Hulisi. Your age is 43\n",
        "name=input('What is your name? ')\n",
        "age=input('What is your age? ')\n",
        "print('Your name is '+name+'. Your age is '+age)"
      ]
    },
    {
      "cell_type": "code",
      "source": [
        "#Q2-Write a if statement for a given two number is equal or not\n",
        "a=43\n",
        "b=54\n",
        "if a==b:\n",
        "  print(\"They are equal\")\n",
        "else:\n",
        "  print(\"They are not equal\")"
      ],
      "metadata": {
        "id": "7Sfg03_PuVWa",
        "outputId": "728ecf13-963c-4e03-fed2-2eabff335854",
        "colab": {
          "base_uri": "https://localhost:8080/"
        }
      },
      "execution_count": null,
      "outputs": [
        {
          "output_type": "stream",
          "name": "stdout",
          "text": [
            "They are not equal\n"
          ]
        }
      ]
    },
    {
      "cell_type": "code",
      "source": [
        "#Q3-Write a if statement for first number is greater (a), equal or less than second number.(b)\n",
        "a=43\n",
        "b=54\n",
        "if a>b:\n",
        "  print(\"The first number is greater than the second one.\")\n",
        "elif a>b:\n",
        "  print(\"They are equal.\")\n",
        "else:\n",
        "  print (\"The first number is less than the second one.\")"
      ],
      "metadata": {
        "id": "NtUibZ07u5gs",
        "colab": {
          "base_uri": "https://localhost:8080/"
        },
        "outputId": "d8709041-1cf9-451e-a185-9b65a43dfcc8"
      },
      "execution_count": null,
      "outputs": [
        {
          "output_type": "stream",
          "name": "stdout",
          "text": [
            "The first number is less than the second one.\n"
          ]
        }
      ]
    },
    {
      "cell_type": "code",
      "source": [
        "#Q4- Using for loop, print 1,2,3,4,5\n",
        "for k in range(1,6):\n",
        "  print(k)"
      ],
      "metadata": {
        "id": "U1UMQv36wNHP",
        "colab": {
          "base_uri": "https://localhost:8080/"
        },
        "outputId": "23e2d386-4327-49b4-ead0-e040ed048e0c"
      },
      "execution_count": null,
      "outputs": [
        {
          "output_type": "stream",
          "name": "stdout",
          "text": [
            "1\n",
            "2\n",
            "3\n",
            "4\n",
            "5\n"
          ]
        }
      ]
    },
    {
      "cell_type": "code",
      "source": [
        "#Q5-Using while loop, print 5,4,3,2,1\n",
        "i=5\n",
        "while(i>0):\n",
        "  print(i)\n",
        "  i=i-1"
      ],
      "metadata": {
        "id": "bh5Lga7XxGY8",
        "colab": {
          "base_uri": "https://localhost:8080/"
        },
        "outputId": "3deeb946-9569-40b8-df1e-d1bf0bc59d5c"
      },
      "execution_count": null,
      "outputs": [
        {
          "output_type": "stream",
          "name": "stdout",
          "text": [
            "5\n",
            "4\n",
            "3\n",
            "2\n",
            "1\n"
          ]
        }
      ]
    },
    {
      "cell_type": "code",
      "source": [
        "#Q6- Using for loop, print 10,6,4,2,0\n",
        "#Hint Print if number is not equal to 8.\n",
        "for c in range(10,-1,-2):\n",
        "  if(c!=8):\n",
        "    print(c)"
      ],
      "metadata": {
        "id": "cXTTDS49xSoi",
        "colab": {
          "base_uri": "https://localhost:8080/"
        },
        "outputId": "9f3efe3a-5e19-4cf5-ada3-35839321219c"
      },
      "execution_count": null,
      "outputs": [
        {
          "output_type": "stream",
          "name": "stdout",
          "text": [
            "10\n",
            "6\n",
            "4\n",
            "2\n",
            "0\n"
          ]
        }
      ]
    },
    {
      "cell_type": "code",
      "source": [
        "#Q7-Write a method to calculate age for a given date of birth year.\n",
        "#Use this method on orer to calculate age of person if date of birth is 1944\n",
        "# if age is the name of function, print(age(1944))\n",
        "\n",
        "def age(c):\n",
        "  return (2022-c)\n",
        "print(age(1944))\n",
        "\n",
        "#I could not understand what is meant by \"given\": In my first code \"given\" means coder's input; In my second code, \"given\" means user's input.\n",
        "\n",
        "birthyear=int(input(\"Enter the birth year: \"))\n",
        "age=2022-birthyear\n",
        "print(age)\n"
      ],
      "metadata": {
        "id": "geUjb-vuyYbF",
        "colab": {
          "base_uri": "https://localhost:8080/"
        },
        "outputId": "c883db22-8c3e-4cb3-f5e5-117b69fa85e2"
      },
      "execution_count": 17,
      "outputs": [
        {
          "output_type": "stream",
          "name": "stdout",
          "text": [
            "78\n",
            "Enter the birth year: 1944\n",
            "78\n"
          ]
        }
      ]
    },
    {
      "cell_type": "code",
      "source": [
        "#Q8-Write a class named arithmetic with method for calculating addition, substraction, multiplication and division of two numbers.\n",
        "class arithmetic:\n",
        "  def addition(a,b):\n",
        "    return(a+b)\n",
        "  def substraction(a,b):\n",
        "    return(a-b)\n",
        "  def multiplcation(a,b):\n",
        "    return(a*b)\n",
        "  def division(a,b):\n",
        "    return(a/b)\n",
        "\n",
        "print(arithmetic.addition(10,5))\n",
        "print(arithmetic.substraction(10,5))\n",
        "print(arithmetic.multiplcation(10,5))\n",
        "print(arithmetic.division(10,5))"
      ],
      "metadata": {
        "id": "YcyFzE3fzC7_",
        "outputId": "9177b142-81ab-41df-e868-b31e72ed0976",
        "colab": {
          "base_uri": "https://localhost:8080/"
        }
      },
      "execution_count": 15,
      "outputs": [
        {
          "output_type": "stream",
          "name": "stdout",
          "text": [
            "15\n",
            "5\n",
            "50\n",
            "2.0\n"
          ]
        }
      ]
    },
    {
      "cell_type": "code",
      "source": [
        "#Q9- write a for loop or method  to calculate summation of first n numbers\n",
        "#i.e if n=3, it will print or return 6 (1+2+3)\n",
        "n=int(input(\"Enter a number: \"))\n",
        "sum=0\n",
        "for k in range(0,n+1):\n",
        "  sum=sum+k\n",
        "print(sum)"
      ],
      "metadata": {
        "id": "AUJWr5YqzadI",
        "outputId": "f9955887-2a20-4794-f6a3-43b1ee2934e8",
        "colab": {
          "base_uri": "https://localhost:8080/"
        }
      },
      "execution_count": null,
      "outputs": [
        {
          "output_type": "stream",
          "name": "stdout",
          "text": [
            "Enter a number: 5\n",
            "15\n"
          ]
        }
      ]
    },
    {
      "cell_type": "code",
      "source": [
        "#Q10-Generate 10 numbers between 0 and 1 and add into list. Print first three elements of that list. \n",
        "import numpy as np\n",
        "k=np.random.rand()\n",
        "k=[]\n",
        "for m in range(0,10):\n",
        "  k.append(float(np.random.rand()))\n",
        "k[0:3]"
      ],
      "metadata": {
        "id": "hmtvJdCL02qx",
        "outputId": "0ab4d9ea-bef8-4ef7-a937-77390a1e24b1",
        "colab": {
          "base_uri": "https://localhost:8080/"
        }
      },
      "execution_count": null,
      "outputs": [
        {
          "output_type": "execute_result",
          "data": {
            "text/plain": [
              "[0.6443658856537109, 0.23812611949443685, 0.40616230451551927]"
            ]
          },
          "metadata": {},
          "execution_count": 34
        }
      ]
    },
    {
      "cell_type": "code",
      "source": [
        "#Q11-For a given number n, print numbers divisible by 3 up to that number(n included)\n",
        "#Example: if n=15, print 3,6,9,12,15\n",
        "#Hint you can use modulus statement (if (i%3==0))\n",
        "\n",
        "n=8\n",
        "sum=0\n",
        "for i in range(0,n+1):\n",
        "  if(i%3==0):\n",
        "    print(i)\n",
        "    i=i+3\n",
        "  else:\n",
        "    i=i+1\n",
        "\n",
        "#I could not understand what is meant by \"given\": In my first code it means coder's input; In my second code, \"given\" means user's input.\n",
        "\n",
        "n=int(input(\"Enter a number: \"))\n",
        "sum=0\n",
        "for i in range(0,n+1):\n",
        "  if(i%3==0):\n",
        "    print(i)\n",
        "    i=i+3\n",
        "  else:\n",
        "    i=i+1"
      ],
      "metadata": {
        "id": "5O6Y2CujcAAs",
        "colab": {
          "base_uri": "https://localhost:8080/"
        },
        "outputId": "36a30120-4ab1-4f21-b9aa-e959072b79b0"
      },
      "execution_count": 18,
      "outputs": [
        {
          "output_type": "stream",
          "name": "stdout",
          "text": [
            "0\n",
            "3\n",
            "6\n",
            "Enter a number: 8\n",
            "0\n",
            "3\n",
            "6\n"
          ]
        }
      ]
    }
  ]
}